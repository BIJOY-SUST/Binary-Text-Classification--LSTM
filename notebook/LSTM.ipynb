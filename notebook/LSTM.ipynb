{
 "cells": [
  {
   "cell_type": "code",
   "execution_count": 190,
   "metadata": {},
   "outputs": [
    {
     "name": "stderr",
     "output_type": "stream",
     "text": [
      "/u/erdos/mamin17/.local/lib/python3.7/site-packages/tqdm/std.py:658: FutureWarning: The Panel class is removed from pandas. Accessing it from the top-level namespace will also be removed in the next version\n",
      "  from pandas import Panel\n",
      "[nltk_data] Downloading collection 'popular'\n",
      "[nltk_data]    | \n",
      "[nltk_data]    | Downloading package cmudict to\n",
      "[nltk_data]    |     /u/erdos/mamin17/nltk_data...\n",
      "[nltk_data]    |   Package cmudict is already up-to-date!\n",
      "[nltk_data]    | Downloading package gazetteers to\n",
      "[nltk_data]    |     /u/erdos/mamin17/nltk_data...\n",
      "[nltk_data]    |   Package gazetteers is already up-to-date!\n",
      "[nltk_data]    | Downloading package genesis to\n",
      "[nltk_data]    |     /u/erdos/mamin17/nltk_data...\n",
      "[nltk_data]    |   Package genesis is already up-to-date!\n",
      "[nltk_data]    | Downloading package gutenberg to\n",
      "[nltk_data]    |     /u/erdos/mamin17/nltk_data...\n",
      "[nltk_data]    |   Package gutenberg is already up-to-date!\n",
      "[nltk_data]    | Downloading package inaugural to\n",
      "[nltk_data]    |     /u/erdos/mamin17/nltk_data...\n",
      "[nltk_data]    |   Package inaugural is already up-to-date!\n",
      "[nltk_data]    | Downloading package movie_reviews to\n",
      "[nltk_data]    |     /u/erdos/mamin17/nltk_data...\n",
      "[nltk_data]    |   Package movie_reviews is already up-to-date!\n",
      "[nltk_data]    | Downloading package names to\n",
      "[nltk_data]    |     /u/erdos/mamin17/nltk_data...\n",
      "[nltk_data]    |   Package names is already up-to-date!\n",
      "[nltk_data]    | Downloading package shakespeare to\n",
      "[nltk_data]    |     /u/erdos/mamin17/nltk_data...\n",
      "[nltk_data]    |   Package shakespeare is already up-to-date!\n",
      "[nltk_data]    | Downloading package stopwords to\n",
      "[nltk_data]    |     /u/erdos/mamin17/nltk_data...\n",
      "[nltk_data]    |   Package stopwords is already up-to-date!\n",
      "[nltk_data]    | Downloading package treebank to\n",
      "[nltk_data]    |     /u/erdos/mamin17/nltk_data...\n",
      "[nltk_data]    |   Package treebank is already up-to-date!\n",
      "[nltk_data]    | Downloading package twitter_samples to\n",
      "[nltk_data]    |     /u/erdos/mamin17/nltk_data...\n",
      "[nltk_data]    |   Package twitter_samples is already up-to-date!\n",
      "[nltk_data]    | Downloading package omw to\n",
      "[nltk_data]    |     /u/erdos/mamin17/nltk_data...\n",
      "[nltk_data]    |   Package omw is already up-to-date!\n",
      "[nltk_data]    | Downloading package wordnet to\n",
      "[nltk_data]    |     /u/erdos/mamin17/nltk_data...\n",
      "[nltk_data]    |   Package wordnet is already up-to-date!\n",
      "[nltk_data]    | Downloading package wordnet_ic to\n",
      "[nltk_data]    |     /u/erdos/mamin17/nltk_data...\n",
      "[nltk_data]    |   Package wordnet_ic is already up-to-date!\n",
      "[nltk_data]    | Downloading package words to\n",
      "[nltk_data]    |     /u/erdos/mamin17/nltk_data...\n",
      "[nltk_data]    |   Package words is already up-to-date!\n",
      "[nltk_data]    | Downloading package maxent_ne_chunker to\n",
      "[nltk_data]    |     /u/erdos/mamin17/nltk_data...\n",
      "[nltk_data]    |   Package maxent_ne_chunker is already up-to-date!\n",
      "[nltk_data]    | Downloading package punkt to\n",
      "[nltk_data]    |     /u/erdos/mamin17/nltk_data...\n",
      "[nltk_data]    |   Package punkt is already up-to-date!\n",
      "[nltk_data]    | Downloading package snowball_data to\n",
      "[nltk_data]    |     /u/erdos/mamin17/nltk_data...\n",
      "[nltk_data]    |   Package snowball_data is already up-to-date!\n",
      "[nltk_data]    | Downloading package averaged_perceptron_tagger to\n",
      "[nltk_data]    |     /u/erdos/mamin17/nltk_data...\n",
      "[nltk_data]    |   Package averaged_perceptron_tagger is already up-\n",
      "[nltk_data]    |       to-date!\n",
      "[nltk_data]    | \n",
      "[nltk_data]  Done downloading collection popular\n"
     ]
    }
   ],
   "source": [
    "import numpy as np # imports a fast numerical programming library\n",
    "import scipy as sp #imports stats functions, amongst other things\n",
    "import matplotlib as mpl # this actually imports matplotlib\n",
    "import matplotlib.cm as cm #allows us easy access to colormaps\n",
    "import matplotlib.pyplot as plt #sets up plotting under plt\n",
    "plt.style.use('ggplot')\n",
    "\n",
    "import pandas as pd #lets us handle data as dataframes\n",
    "\n",
    "from sklearn import preprocessing\n",
    "from sklearn.model_selection import train_test_split\n",
    "\n",
    "# Classifier\n",
    "from sklearn.linear_model import LogisticRegression\n",
    "from sklearn.svm import LinearSVC\n",
    "from sklearn.svm import SVC\n",
    "from sklearn.linear_model import SGDClassifier\n",
    "\n",
    "# Result Analysis\n",
    "from sklearn.externals import joblib\n",
    "from sklearn.metrics import recall_score, precision_score, confusion_matrix\n",
    "from sklearn.metrics import accuracy_score, f1_score\n",
    "from sklearn.model_selection import cross_val_score\n",
    "from sklearn.model_selection import cross_val_predict\n",
    "from sklearn import metrics\n",
    "\n",
    "from langdetect import detect\n",
    "from langdetect import DetectorFactory\n",
    "\n",
    "from tqdm import tqdm\n",
    "from tqdm._tqdm_notebook import tqdm_notebook\n",
    "tqdm_notebook.pandas()\n",
    "\n",
    "# Some useful library\n",
    "import os\n",
    "from os.path import isfile\n",
    "\n",
    "import pytextrank\n",
    "import sys\n",
    "\n",
    "import json\n",
    "import gensim\n",
    "import collections\n",
    "import re, time , ntpath\n",
    "import logging\n",
    "import random\n",
    "import glob\n",
    "from pprint import pprint\n",
    "from copy import deepcopy\n",
    "from os import listdir\n",
    "from collections import Counter\n",
    "from pprint import pprint\n",
    "\n",
    "from IPython.utils import io\n",
    "from IPython.display import HTML, display\n",
    "from ipywidgets import interact, Layout, HBox, VBox, Box\n",
    "import ipywidgets as widgets\n",
    "from IPython.display import clear_output\n",
    "\n",
    "import spacy\n",
    "from scipy.spatial.distance import jensenshannon\n",
    "from spacy.lang.en.stop_words import STOP_WORDS\n",
    "import en_core_sci_lg\n",
    "import string\n",
    "\n",
    "# For Ploting\n",
    "import seaborn as sns\n",
    "\n",
    "# Word Embedding\n",
    "from sklearn.feature_extraction.text import CountVectorizer, TfidfVectorizer\n",
    "from gensim.models import Word2Vec\n",
    "from gensim.models import FastText\n",
    "from gensim.models import doc2vec\n",
    "from gensim.models.keyedvectors import KeyedVectors\n",
    "\n",
    "from sklearn.decomposition import PCA\n",
    "from sklearn.cluster import KMeans\n",
    "\n",
    "from scipy.spatial.distance import cdist\n",
    "\n",
    "from sklearn.manifold import TSNE\n",
    "\n",
    "from sklearn.decomposition import LatentDirichletAllocation\n",
    "\n",
    "# File save\n",
    "import pickle\n",
    "\n",
    "\n",
    "# Natural Language Toolkit\n",
    "import nltk\n",
    "nltk.download('popular')\n",
    "\n",
    "from nltk.tokenize import sent_tokenize, word_tokenize\n",
    "from nltk.stem import PorterStemmer \n",
    "from nltk.stem import WordNetLemmatizer \n",
    "from nltk.corpus import stopwords \n",
    "from nltk.tokenize import word_tokenize \n",
    "\n",
    "stop_words_nltk = set(stopwords.words('english')) \n"
   ]
  },
  {
   "cell_type": "code",
   "execution_count": 191,
   "metadata": {},
   "outputs": [],
   "source": [
    "from sklearn.model_selection import train_test_split\n",
    "from sklearn.preprocessing import LabelEncoder\n",
    "from keras.models import Model\n",
    "from keras.layers import LSTM, Activation, Dense, Dropout, Input, Embedding\n",
    "from keras.optimizers import RMSprop\n",
    "from keras.preprocessing.text import Tokenizer\n",
    "from keras.preprocessing import sequence\n",
    "from keras.utils import to_categorical\n",
    "from keras.callbacks import EarlyStopping\n",
    "\n",
    "from sklearn.feature_extraction.text import CountVectorizer\n",
    "from keras.preprocessing.text import Tokenizer\n",
    "from keras.preprocessing.sequence import pad_sequences\n",
    "from keras.models import Sequential\n",
    "from keras.layers import Dense, Embedding, LSTM, SpatialDropout1D\n",
    "from sklearn.model_selection import train_test_split\n",
    "from keras.utils.np_utils import to_categorical\n",
    "\n",
    "%matplotlib inline"
   ]
  },
  {
   "cell_type": "code",
   "execution_count": 192,
   "metadata": {},
   "outputs": [
    {
     "name": "stdout",
     "output_type": "stream",
     "text": [
      "/esata/mamin17/bsbijoy2050/Thesis/notebook\n"
     ]
    }
   ],
   "source": [
    "import os\n",
    "from pathlib import Path\n",
    "path = Path(os.getcwd())\n",
    "print(path)"
   ]
  },
  {
   "cell_type": "code",
   "execution_count": 193,
   "metadata": {},
   "outputs": [],
   "source": [
    "def get_file_name(path):\n",
    "    head, tail = ntpath.split(path)\n",
    "    return tail or ntpath.basename(head)"
   ]
  },
  {
   "cell_type": "code",
   "execution_count": 195,
   "metadata": {},
   "outputs": [
    {
     "name": "stdout",
     "output_type": "stream",
     "text": [
      "Loading documents took 0.0052340030670166016 seconds\n"
     ]
    }
   ],
   "source": [
    "# data - process\n",
    "\n",
    "start = time.time()\n",
    "\n",
    "OUTCOME = \"/esata/mamin17/bsbijoy2050/Thesis/dataset/outcome\"\n",
    "label_dict = {}\n",
    "with open(OUTCOME, \"r\") as label_file:\n",
    "    lines = label_file.readlines()\n",
    "    for line in lines:\n",
    "        key, value = line.split(\" \")\n",
    "        label_dict[key] = str(value).replace(\"\\r\", \"\").replace(\"\\r\\n\", \"\").replace(\"\\n\", \"\")\n",
    "\n",
    "\n",
    "PATH = \"/esata/mamin17/bsbijoy2050/Thesis/dataset/data/\"\n",
    "\n",
    "data = []\n",
    "\n",
    "files = os.listdir(PATH)\n",
    "for i, fpath in enumerate(files):\n",
    "    with open(PATH + fpath) as f:\n",
    "        contents = f.read()\n",
    "        if len(contents) < 0:\n",
    "            continue\n",
    "\n",
    "        file_name = get_file_name(fpath)\n",
    "        \n",
    "        temp = []\n",
    "#         temp.append(file_name)\n",
    "        temp.append(label_dict[file_name])\n",
    "        temp.append(contents)\n",
    "        \n",
    "        \n",
    "        data.append(temp)\n",
    "        \n",
    "        \n",
    "end = time.time()\n",
    "print(\"Loading documents took %s seconds\" % str(end - start))"
   ]
  },
  {
   "cell_type": "code",
   "execution_count": 196,
   "metadata": {},
   "outputs": [
    {
     "data": {
      "text/html": [
       "<div>\n",
       "<style scoped>\n",
       "    .dataframe tbody tr th:only-of-type {\n",
       "        vertical-align: middle;\n",
       "    }\n",
       "\n",
       "    .dataframe tbody tr th {\n",
       "        vertical-align: top;\n",
       "    }\n",
       "\n",
       "    .dataframe thead th {\n",
       "        text-align: right;\n",
       "    }\n",
       "</style>\n",
       "<table border=\"1\" class=\"dataframe\">\n",
       "  <thead>\n",
       "    <tr style=\"text-align: right;\">\n",
       "      <th></th>\n",
       "      <th>outcome</th>\n",
       "      <th>data</th>\n",
       "    </tr>\n",
       "  </thead>\n",
       "  <tbody>\n",
       "    <tr>\n",
       "      <th>0</th>\n",
       "      <td>true</td>\n",
       "      <td>China Expands Foreign Cooperation in Onshor...</td>\n",
       "    </tr>\n",
       "    <tr>\n",
       "      <th>1</th>\n",
       "      <td>true</td>\n",
       "      <td>Sampras, Chang advance to Salem Open final\\...</td>\n",
       "    </tr>\n",
       "    <tr>\n",
       "      <th>2</th>\n",
       "      <td>false</td>\n",
       "      <td>NATO archives show Pope Ratzinger is Jackie...</td>\n",
       "    </tr>\n",
       "    <tr>\n",
       "      <th>3</th>\n",
       "      <td>true</td>\n",
       "      <td>G7 meeting seen as \"dollar's last hope\" \\n\\...</td>\n",
       "    </tr>\n",
       "    <tr>\n",
       "      <th>4</th>\n",
       "      <td>true</td>\n",
       "      <td>Chinese telecommunications company issues s...</td>\n",
       "    </tr>\n",
       "    <tr>\n",
       "      <th>...</th>\n",
       "      <td>...</td>\n",
       "      <td>...</td>\n",
       "    </tr>\n",
       "    <tr>\n",
       "      <th>65</th>\n",
       "      <td>true</td>\n",
       "      <td>UK Scientists Call for Wildlife Health Moni...</td>\n",
       "    </tr>\n",
       "    <tr>\n",
       "      <th>66</th>\n",
       "      <td>true</td>\n",
       "      <td>A threat to shell a Canadian peacekeeping c...</td>\n",
       "    </tr>\n",
       "    <tr>\n",
       "      <th>67</th>\n",
       "      <td>false</td>\n",
       "      <td>Chissano Urges Churches to Step up Dialog \\...</td>\n",
       "    </tr>\n",
       "    <tr>\n",
       "      <th>68</th>\n",
       "      <td>true</td>\n",
       "      <td>NZ Government Signs Land Deal with Maoris \\...</td>\n",
       "    </tr>\n",
       "    <tr>\n",
       "      <th>69</th>\n",
       "      <td>false</td>\n",
       "      <td>Facts and Figures: China's Imports from Rus...</td>\n",
       "    </tr>\n",
       "  </tbody>\n",
       "</table>\n",
       "<p>70 rows × 2 columns</p>\n",
       "</div>"
      ],
      "text/plain": [
       "   outcome                                               data\n",
       "0     true     China Expands Foreign Cooperation in Onshor...\n",
       "1     true     Sampras, Chang advance to Salem Open final\\...\n",
       "2    false     NATO archives show Pope Ratzinger is Jackie...\n",
       "3     true     G7 meeting seen as \"dollar's last hope\" \\n\\...\n",
       "4     true     Chinese telecommunications company issues s...\n",
       "..     ...                                                ...\n",
       "65    true     UK Scientists Call for Wildlife Health Moni...\n",
       "66    true     A threat to shell a Canadian peacekeeping c...\n",
       "67   false     Chissano Urges Churches to Step up Dialog \\...\n",
       "68    true     NZ Government Signs Land Deal with Maoris \\...\n",
       "69   false     Facts and Figures: China's Imports from Rus...\n",
       "\n",
       "[70 rows x 2 columns]"
      ]
     },
     "execution_count": 196,
     "metadata": {},
     "output_type": "execute_result"
    }
   ],
   "source": [
    "all_data = pd.DataFrame(data, columns=['outcome','data'])\n",
    "all_data"
   ]
  },
  {
   "cell_type": "code",
   "execution_count": 197,
   "metadata": {},
   "outputs": [
    {
     "data": {
      "text/html": [
       "<div>\n",
       "<style scoped>\n",
       "    .dataframe tbody tr th:only-of-type {\n",
       "        vertical-align: middle;\n",
       "    }\n",
       "\n",
       "    .dataframe tbody tr th {\n",
       "        vertical-align: top;\n",
       "    }\n",
       "\n",
       "    .dataframe thead th {\n",
       "        text-align: right;\n",
       "    }\n",
       "</style>\n",
       "<table border=\"1\" class=\"dataframe\">\n",
       "  <thead>\n",
       "    <tr style=\"text-align: right;\">\n",
       "      <th></th>\n",
       "      <th>outcome</th>\n",
       "      <th>data</th>\n",
       "    </tr>\n",
       "  </thead>\n",
       "  <tbody>\n",
       "    <tr>\n",
       "      <th>0</th>\n",
       "      <td>1</td>\n",
       "      <td>China Expands Foreign Cooperation in Onshor...</td>\n",
       "    </tr>\n",
       "    <tr>\n",
       "      <th>1</th>\n",
       "      <td>1</td>\n",
       "      <td>Sampras, Chang advance to Salem Open final\\...</td>\n",
       "    </tr>\n",
       "    <tr>\n",
       "      <th>2</th>\n",
       "      <td>0</td>\n",
       "      <td>NATO archives show Pope Ratzinger is Jackie...</td>\n",
       "    </tr>\n",
       "    <tr>\n",
       "      <th>3</th>\n",
       "      <td>1</td>\n",
       "      <td>G7 meeting seen as \"dollar's last hope\" \\n\\...</td>\n",
       "    </tr>\n",
       "    <tr>\n",
       "      <th>4</th>\n",
       "      <td>1</td>\n",
       "      <td>Chinese telecommunications company issues s...</td>\n",
       "    </tr>\n",
       "    <tr>\n",
       "      <th>...</th>\n",
       "      <td>...</td>\n",
       "      <td>...</td>\n",
       "    </tr>\n",
       "    <tr>\n",
       "      <th>65</th>\n",
       "      <td>1</td>\n",
       "      <td>UK Scientists Call for Wildlife Health Moni...</td>\n",
       "    </tr>\n",
       "    <tr>\n",
       "      <th>66</th>\n",
       "      <td>1</td>\n",
       "      <td>A threat to shell a Canadian peacekeeping c...</td>\n",
       "    </tr>\n",
       "    <tr>\n",
       "      <th>67</th>\n",
       "      <td>0</td>\n",
       "      <td>Chissano Urges Churches to Step up Dialog \\...</td>\n",
       "    </tr>\n",
       "    <tr>\n",
       "      <th>68</th>\n",
       "      <td>1</td>\n",
       "      <td>NZ Government Signs Land Deal with Maoris \\...</td>\n",
       "    </tr>\n",
       "    <tr>\n",
       "      <th>69</th>\n",
       "      <td>0</td>\n",
       "      <td>Facts and Figures: China's Imports from Rus...</td>\n",
       "    </tr>\n",
       "  </tbody>\n",
       "</table>\n",
       "<p>70 rows × 2 columns</p>\n",
       "</div>"
      ],
      "text/plain": [
       "    outcome                                               data\n",
       "0         1     China Expands Foreign Cooperation in Onshor...\n",
       "1         1     Sampras, Chang advance to Salem Open final\\...\n",
       "2         0     NATO archives show Pope Ratzinger is Jackie...\n",
       "3         1     G7 meeting seen as \"dollar's last hope\" \\n\\...\n",
       "4         1     Chinese telecommunications company issues s...\n",
       "..      ...                                                ...\n",
       "65        1     UK Scientists Call for Wildlife Health Moni...\n",
       "66        1     A threat to shell a Canadian peacekeeping c...\n",
       "67        0     Chissano Urges Churches to Step up Dialog \\...\n",
       "68        1     NZ Government Signs Land Deal with Maoris \\...\n",
       "69        0     Facts and Figures: China's Imports from Rus...\n",
       "\n",
       "[70 rows x 2 columns]"
      ]
     },
     "execution_count": 197,
     "metadata": {},
     "output_type": "execute_result"
    }
   ],
   "source": [
    "all_data['outcome'] = [ 1 if item=='true' else 0 for item in  np.array(all_data.outcome)]\n",
    "all_data"
   ]
  },
  {
   "cell_type": "code",
   "execution_count": 198,
   "metadata": {},
   "outputs": [
    {
     "data": {
      "text/plain": [
       "Text(0.5, 1.0, 'Number of true and false in texts')"
      ]
     },
     "execution_count": 198,
     "metadata": {},
     "output_type": "execute_result"
    },
    {
     "data": {
      "image/png": "[encoded data removed]",
      "text/plain": [
       "<Figure size 432x288 with 1 Axes>"
      ]
     },
     "metadata": {
      "needs_background": "light"
     },
     "output_type": "display_data"
    }
   ],
   "source": [
    "sns.countplot(all_data.outcome)\n",
    "plt.xlabel('Label')\n",
    "plt.title('Number of true and false in texts')"
   ]
  },
  {
   "cell_type": "code",
   "execution_count": 199,
   "metadata": {},
   "outputs": [
    {
     "data": {
      "text/plain": [
       "outcome     int64\n",
       "data       object\n",
       "dtype: object"
      ]
     },
     "execution_count": 199,
     "metadata": {},
     "output_type": "execute_result"
    }
   ],
   "source": [
    "all_data.dtypes"
   ]
  },
  {
   "cell_type": "code",
   "execution_count": 200,
   "metadata": {},
   "outputs": [
    {
     "data": {
      "text/plain": [
       "outcome     int64\n",
       "data       object\n",
       "dtype: object"
      ]
     },
     "execution_count": 200,
     "metadata": {},
     "output_type": "execute_result"
    }
   ],
   "source": [
    "all_data.data = all_data.data.astype(str)\n",
    "all_data.outcome = all_data.outcome.astype(int)\n",
    "all_data.dtypes"
   ]
  },
  {
   "cell_type": "code",
   "execution_count": 201,
   "metadata": {},
   "outputs": [
    {
     "data": {
      "text/plain": [
       "0     [   China Expands Foreign Cooperation in Onsho...\n",
       "1     [   Sampras, Chang advance to Salem Open final...\n",
       "2     [   NATO archives show Pope Ratzinger is Jacki...\n",
       "3     [   G7 meeting seen as \"dollar's last hope\" \\n...\n",
       "4     [   Chinese telecommunications company issues ...\n",
       "                            ...                        \n",
       "65    [   UK Scientists Call for Wildlife Health Mon...\n",
       "66    [   A threat to shell a Canadian peacekeeping ...\n",
       "67    [   Chissano Urges Churches to Step up Dialog ...\n",
       "68    [   NZ Government Signs Land Deal with Maoris ...\n",
       "69    [   Facts and Figures: China's Imports from Ru...\n",
       "Name: data, Length: 70, dtype: object"
      ]
     },
     "execution_count": 201,
     "metadata": {},
     "output_type": "execute_result"
    }
   ],
   "source": [
    "all_data['data'].astype(str).str.split('.').str[0:]"
   ]
  },
  {
   "cell_type": "code",
   "execution_count": 202,
   "metadata": {},
   "outputs": [
    {
     "data": {
      "text/plain": [
       "'   china expands foreign cooperation in onshore oil production      china is actively exploring international oil markets  alongside    efforts to tap huge oil and gas resources domestically  by inviting    foreign partners  according to a senior chinese oil official      president wang tao of the china national petroleum corp  cnpc  said in    an interview with xinhua today that china has expanded sino foreign    onshore oil cooperation to 21 provinces and autonomous regions     covering a total area of nearly 2 5 million sq km      so far  china has signed 34 contracts worth 627 million us dollars with    32 foreign oil giants in terms of oil and gas risk exploration and    technical services      china  meanwhile  has developed a cumulative crude oil and gas    production capacity of 40 5 million tons and 500 million cu m by taking    advantage of various foreign supplied loans totalling 9 94 billion us    dollars      the senior oil official added that china is also making headway in    exploring oil and gas resources in foreign countries      to date china has already signed five oil contracts abroad and has    successfully obtained a share holding  operational and development    rights in a series of foreign oil fields      the cnpc president noted that china has made marked breakthroughs in    undertaking international oil engineering construction projects      he said that china signed contracts worth 400 million us dollars with    kuwait alone in 1995 on building oil storage facilities and oil    pipelines  moreover china exported oil technological equipment worth 39    million us dollars in the same year      the president noted that amid fierce international competition  china    has won bids for a series of important projects in recent years     including the construction of five large oil and petrochemical projects    in kuwait with total investment of more than three billion us dollars     and the construction of five highways for transporting petroleum in    pakistan      the official stressed that china will further expand sino foreign    cooperation in oil and gas risk exploration  enhancement of oil    recovery in aging oil fields and construction of long distance oil and    gas pipelines by adhering to the principle of equality and mutual    benefit  '"
      ]
     },
     "execution_count": 202,
     "metadata": {},
     "output_type": "execute_result"
    }
   ],
   "source": [
    "all_data.data = all_data.data.str.replace('\\n',' ')\n",
    "all_data.data = all_data.data.str.replace('[^\\w\\s]',' ')\n",
    "all_data.data = all_data.data.str.replace('_',' ')\n",
    "all_data.data = all_data.data.str.replace('\\n',' ')\n",
    "all_data.data = all_data.data.str.lower()\n",
    "\n",
    "all_data.loc[0,'data']"
   ]
  },
  {
   "cell_type": "code",
   "execution_count": 217,
   "metadata": {},
   "outputs": [],
   "source": [
    "X = all_data.data\n",
    "Y = all_data.outcome\n",
    "le = LabelEncoder()\n",
    "Y = le.fit_transform(Y)\n",
    "Y = Y.reshape(-1,1)"
   ]
  },
  {
   "cell_type": "code",
   "execution_count": 218,
   "metadata": {},
   "outputs": [],
   "source": [
    "X_train,X_test,Y_train,Y_test = train_test_split(X,Y,test_size=0.5)"
   ]
  },
  {
   "cell_type": "code",
   "execution_count": 219,
   "metadata": {},
   "outputs": [],
   "source": [
    "max_words = 1000\n",
    "max_len = 150\n",
    "\n",
    "tok = Tokenizer(num_words=max_words)\n",
    "tok.fit_on_texts(X_train)\n",
    "sequences = tok.texts_to_sequences(X_train)\n",
    "sequences_matrix = sequence.pad_sequences(sequences,maxlen=max_len)\n",
    "\n",
    "test_sequences = tok.texts_to_sequences(X_test)\n",
    "test_sequences_matrix = sequence.pad_sequences(test_sequences,maxlen=max_len)"
   ]
  },
  {
   "cell_type": "code",
   "execution_count": 220,
   "metadata": {},
   "outputs": [],
   "source": [
    "def RNN():\n",
    "    inputs = Input(name='inputs',shape=[max_len])\n",
    "    layer = Embedding(max_words,50,input_length=max_len)(inputs)\n",
    "    layer = LSTM(64)(layer)\n",
    "    layer = Dense(256,name='FC1')(layer)\n",
    "    layer = Activation('relu')(layer)\n",
    "    layer = Dropout(0.5)(layer)\n",
    "    layer = Dense(1,name='out_layer')(layer)\n",
    "    layer = Activation('sigmoid')(layer)\n",
    "    model = Model(inputs=inputs,outputs=layer)\n",
    "    return model"
   ]
  },
  {
   "cell_type": "code",
   "execution_count": 221,
   "metadata": {},
   "outputs": [
    {
     "name": "stdout",
     "output_type": "stream",
     "text": [
      "Model: \"model_10\"\n",
      "_________________________________________________________________\n",
      "Layer (type)                 Output Shape              Param #   \n",
      "=================================================================\n",
      "inputs (InputLayer)          (None, 150)               0         \n",
      "_________________________________________________________________\n",
      "embedding_11 (Embedding)     (None, 150, 50)           50000     \n",
      "_________________________________________________________________\n",
      "lstm_11 (LSTM)               (None, 64)                29440     \n",
      "_________________________________________________________________\n",
      "FC1 (Dense)                  (None, 256)               16640     \n",
      "_________________________________________________________________\n",
      "activation_19 (Activation)   (None, 256)               0         \n",
      "_________________________________________________________________\n",
      "dropout_10 (Dropout)         (None, 256)               0         \n",
      "_________________________________________________________________\n",
      "out_layer (Dense)            (None, 1)                 257       \n",
      "_________________________________________________________________\n",
      "activation_20 (Activation)   (None, 1)                 0         \n",
      "=================================================================\n",
      "Total params: 96,337\n",
      "Trainable params: 96,337\n",
      "Non-trainable params: 0\n",
      "_________________________________________________________________\n"
     ]
    },
    {
     "name": "stderr",
     "output_type": "stream",
     "text": [
      "/u/erdos/mamin17/.local/lib/python3.7/site-packages/tensorflow_core/python/framework/indexed_slices.py:433: UserWarning: Converting sparse IndexedSlices to a dense Tensor of unknown shape. This may consume a large amount of memory.\n",
      "  \"Converting sparse IndexedSlices to a dense Tensor of unknown shape. \"\n"
     ]
    },
    {
     "name": "stdout",
     "output_type": "stream",
     "text": [
      "Train on 28 samples, validate on 7 samples\n",
      "Epoch 1/10\n",
      "28/28 [==============================] - 1s 43ms/step - loss: 0.6928 - accuracy: 0.5714 - val_loss: 0.6797 - val_accuracy: 1.0000\n",
      "Epoch 2/10\n",
      "28/28 [==============================] - 0s 13ms/step - loss: 0.6860 - accuracy: 0.6786 - val_loss: 0.6632 - val_accuracy: 1.0000\n",
      "Epoch 3/10\n",
      "28/28 [==============================] - 0s 9ms/step - loss: 0.6771 - accuracy: 0.6786 - val_loss: 0.6387 - val_accuracy: 1.0000\n",
      "Epoch 4/10\n",
      "28/28 [==============================] - 0s 9ms/step - loss: 0.6649 - accuracy: 0.6786 - val_loss: 0.6154 - val_accuracy: 1.0000\n",
      "Epoch 5/10\n",
      "28/28 [==============================] - 0s 11ms/step - loss: 0.6444 - accuracy: 0.6786 - val_loss: 0.5469 - val_accuracy: 1.0000\n",
      "Epoch 6/10\n",
      "28/28 [==============================] - 0s 11ms/step - loss: 0.5947 - accuracy: 0.6786 - val_loss: 0.2577 - val_accuracy: 1.0000\n",
      "Epoch 7/10\n",
      "28/28 [==============================] - 0s 11ms/step - loss: 0.4564 - accuracy: 0.6786 - val_loss: 0.4799 - val_accuracy: 1.0000\n",
      "35/35 [==============================] - 0s 2ms/step\n",
      "Loss :  0.5625343654836927\n",
      "Accuracy :  0.7714285850524902\n"
     ]
    }
   ],
   "source": [
    "model = RNN()\n",
    "model.summary()\n",
    "model.compile(loss='binary_crossentropy',optimizer=RMSprop(),metrics=['accuracy'])\n",
    "model.fit(sequences_matrix,Y_train,batch_size=128,epochs=10,validation_split=0.2,callbacks=[EarlyStopping(monitor='val_loss',min_delta=0.0001)])\n",
    "accr = model.evaluate(test_sequences_matrix,Y_test)\n",
    "print('Loss : ',accr[0])\n",
    "print('Accuracy : ',accr[1])"
   ]
  },
  {
   "cell_type": "code",
   "execution_count": null,
   "metadata": {},
   "outputs": [],
   "source": []
  }
 ],
 "metadata": {
  "kernelspec": {
   "display_name": "Python 3",
   "language": "python",
   "name": "python3"
  },
  "language_info": {
   "codemirror_mode": {
    "name": "ipython",
    "version": 3
   },
   "file_extension": ".py",
   "mimetype": "text/x-python",
   "name": "python",
   "nbconvert_exporter": "python",
   "pygments_lexer": "ipython3",
   "version": "3.7.7"
  }
 },
 "nbformat": 4,
 "nbformat_minor": 2
}
